{
 "cells": [
  {
   "cell_type": "markdown",
   "id": "overhead-infection",
   "metadata": {},
   "source": [
    "# The Classic Example of Counting Words\n",
    "\n",
    "Let us visit the classic example of map-reduce, counting the words in a book or books."
   ]
  },
  {
   "cell_type": "markdown",
   "id": "altered-bachelor",
   "metadata": {},
   "source": [
    "## If we install findspark we can use that utility to help us connect to Spark"
   ]
  },
  {
   "cell_type": "code",
   "execution_count": null,
   "id": "unexpected-privacy",
   "metadata": {},
   "outputs": [],
   "source": [
    "#import findspark\n",
    "#findspark.init()\n",
    "\n",
    "#import pyspark\n",
    "#sc = pyspark.SparkContext.getOrCreate()"
   ]
  },
  {
   "cell_type": "code",
   "execution_count": 1,
   "id": "deluxe-copying",
   "metadata": {},
   "outputs": [],
   "source": [
    "# Manually setting the pyspark context\n",
    "import pyspark\n",
    "sc = pyspark.SparkContext('local[*]')"
   ]
  },
  {
   "cell_type": "markdown",
   "id": "designed-devon",
   "metadata": {},
   "source": [
    "### Let's create a utility function for stripping out non-alpha characters from our data"
   ]
  },
  {
   "cell_type": "code",
   "execution_count": null,
   "id": "subtle-external",
   "metadata": {},
   "outputs": [],
   "source": [
    "def strip(s):\n",
    "    \"\"\"Strip removes any non-alpha charcters\"\"\"\n",
    "    return ''.join(filter(str.isalpha, s))"
   ]
  },
  {
   "cell_type": "markdown",
   "id": "heated-toilet",
   "metadata": {},
   "source": [
    "### Now we start to build the analysis pipeline that will process our code"
   ]
  },
  {
   "cell_type": "code",
   "execution_count": null,
   "id": "sixth-client",
   "metadata": {},
   "outputs": [],
   "source": [
    "# Make sure to check that your path is correct for the data files\n",
    "books = sc.textFile(\"books/*.txt\")  \n",
    "\n",
    "tokens = books.flatMap(lambda line: line.split())\n",
    "stripped = tokens.map(strip)\n",
    "notempty = stripped.filter(lambda w: len(w)>0)"
   ]
  },
  {
   "cell_type": "markdown",
   "id": "three-eclipse",
   "metadata": {},
   "source": [
    "### Your turn\n",
    "\n",
    "You need several more functions:\n",
    "1. Map the words to lower case\n",
    "2. Convert the words into (key, value) pairs, where the key is the word and the value is the count so far\n",
    "3. Next reduce by key, adding up the counts as you go\n",
    "\n",
    "Make sure that your final variable is called wordcount so the rest of the code works"
   ]
  },
  {
   "cell_type": "code",
   "execution_count": null,
   "id": "limiting-future",
   "metadata": {},
   "outputs": [],
   "source": [
    "#now map the words to lower case\n",
    "\n",
    "#next convert the words into (k,v) pairs, where the key is the word, and the value is the.count so far\n",
    "\n",
    "#next reduce by key, adding up the counts as you go"
   ]
  },
  {
   "cell_type": "code",
   "execution_count": null,
   "id": "emerging-qatar",
   "metadata": {},
   "outputs": [],
   "source": []
  },
  {
   "cell_type": "code",
   "execution_count": null,
   "id": "earlier-planet",
   "metadata": {},
   "outputs": [],
   "source": [
    "for k,v in wordcount.collect():\n",
    "    print(k,v)"
   ]
  },
  {
   "cell_type": "markdown",
   "id": "powered-gothic",
   "metadata": {},
   "source": [
    "### What if we wanted to arrange the words in  descending order?"
   ]
  },
  {
   "cell_type": "code",
   "execution_count": null,
   "id": "divine-layer",
   "metadata": {},
   "outputs": [],
   "source": []
  },
  {
   "cell_type": "code",
   "execution_count": null,
   "id": "compressed-gallery",
   "metadata": {},
   "outputs": [],
   "source": []
  }
 ],
 "metadata": {
  "kernelspec": {
   "display_name": "Python 3 (ipykernel)",
   "language": "python",
   "name": "python3"
  },
  "language_info": {
   "codemirror_mode": {
    "name": "ipython",
    "version": 3
   },
   "file_extension": ".py",
   "mimetype": "text/x-python",
   "name": "python",
   "nbconvert_exporter": "python",
   "pygments_lexer": "ipython3",
   "version": "3.9.7"
  }
 },
 "nbformat": 4,
 "nbformat_minor": 5
}
