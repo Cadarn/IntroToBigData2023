{
 "cells": [
  {
   "cell_type": "markdown",
   "id": "following-minimum",
   "metadata": {},
   "source": [
    "# Our first explorations of Jupyter Lab\n",
    "## We can annotate our work using Markdown\n",
    "\n",
    "This is us getting to know the Jupyter environment. We can write lists in markdown:\n",
    "\n",
    "- Item 1\n",
    "- Item 2\n",
    "\n",
    "We can also render latex, $z = \\frac{x}{y}$"
   ]
  },
  {
   "cell_type": "code",
   "execution_count": 1,
   "id": "fifty-employment",
   "metadata": {},
   "outputs": [],
   "source": [
    "import numpy as np\n",
    "import pandas as pd\n",
    "\n",
    "import matplotlib.pyplot as plt\n",
    "\n",
    "%matplotlib inline"
   ]
  },
  {
   "cell_type": "code",
   "execution_count": 2,
   "id": "caroline-guinea",
   "metadata": {},
   "outputs": [],
   "source": [
    "df = pd.DataFrame(data={\"x\": range(10), \"y\": range(10, 20)})"
   ]
  },
  {
   "cell_type": "code",
   "execution_count": 3,
   "id": "sunset-nelson",
   "metadata": {},
   "outputs": [],
   "source": [
    "df = df * 2"
   ]
  },
  {
   "cell_type": "code",
   "execution_count": 4,
   "id": "elementary-argentina",
   "metadata": {},
   "outputs": [
    {
     "data": {
      "text/html": [
       "<div>\n",
       "<style scoped>\n",
       "    .dataframe tbody tr th:only-of-type {\n",
       "        vertical-align: middle;\n",
       "    }\n",
       "\n",
       "    .dataframe tbody tr th {\n",
       "        vertical-align: top;\n",
       "    }\n",
       "\n",
       "    .dataframe thead th {\n",
       "        text-align: right;\n",
       "    }\n",
       "</style>\n",
       "<table border=\"1\" class=\"dataframe\">\n",
       "  <thead>\n",
       "    <tr style=\"text-align: right;\">\n",
       "      <th></th>\n",
       "      <th>x</th>\n",
       "      <th>y</th>\n",
       "    </tr>\n",
       "  </thead>\n",
       "  <tbody>\n",
       "    <tr>\n",
       "      <th>0</th>\n",
       "      <td>0</td>\n",
       "      <td>20</td>\n",
       "    </tr>\n",
       "    <tr>\n",
       "      <th>1</th>\n",
       "      <td>2</td>\n",
       "      <td>22</td>\n",
       "    </tr>\n",
       "    <tr>\n",
       "      <th>2</th>\n",
       "      <td>4</td>\n",
       "      <td>24</td>\n",
       "    </tr>\n",
       "    <tr>\n",
       "      <th>3</th>\n",
       "      <td>6</td>\n",
       "      <td>26</td>\n",
       "    </tr>\n",
       "    <tr>\n",
       "      <th>4</th>\n",
       "      <td>8</td>\n",
       "      <td>28</td>\n",
       "    </tr>\n",
       "  </tbody>\n",
       "</table>\n",
       "</div>"
      ],
      "text/plain": [
       "   x   y\n",
       "0  0  20\n",
       "1  2  22\n",
       "2  4  24\n",
       "3  6  26\n",
       "4  8  28"
      ]
     },
     "execution_count": 4,
     "metadata": {},
     "output_type": "execute_result"
    }
   ],
   "source": [
    "df.head()"
   ]
  },
  {
   "cell_type": "code",
   "execution_count": 5,
   "id": "pacific-charity",
   "metadata": {},
   "outputs": [
    {
     "data": {
      "text/plain": [
       "<AxesSubplot:>"
      ]
     },
     "execution_count": 5,
     "metadata": {},
     "output_type": "execute_result"
    },
    {
     "data": {
      "image/png": "[encoded data removed]",
      "text/plain": [
       "<Figure size 432x288 with 1 Axes>"
      ]
     },
     "metadata": {
      "needs_background": "light"
     },
     "output_type": "display_data"
    }
   ],
   "source": [
    "df.plot()"
   ]
  },
  {
   "cell_type": "code",
   "execution_count": 6,
   "id": "literary-forestry",
   "metadata": {},
   "outputs": [
    {
     "data": {
      "image/png": "[encoded data removed]",
      "text/plain": [
       "<Figure size 432x288 with 1 Axes>"
      ]
     },
     "metadata": {
      "needs_background": "light"
     },
     "output_type": "display_data"
    }
   ],
   "source": [
    "plt.plot(df['x'], df['y'], '.')\n",
    "plt.xlabel(\"X\")\n",
    "plt.ylabel(\"Y\")\n",
    "plt.title(\"A title of my plot\");"
   ]
  },
  {
   "cell_type": "markdown",
   "id": "specialized-warning",
   "metadata": {},
   "source": [
    "# The Birthday paradox\n",
    "\n",
    "Testing out debugger using the Birthday paradox as a test problem.\n",
    "\n",
    "The question is, how many people need to attend a party in order for their to be a greater than 90% probability that at least two people share the same birthday?"
   ]
  },
  {
   "cell_type": "code",
   "execution_count": 7,
   "id": "corporate-bangkok",
   "metadata": {},
   "outputs": [],
   "source": [
    "def birthday_paradox_calc(num_people):\n",
    "    \"\"\"Analytically calculate the probability that two people share the same birthday\n",
    "    Args:\n",
    "        num_people: integer, number of people at a birthday\n",
    "    \"\"\"\n",
    "\n",
    "    # Assume there are only 365 days in the year to make things easier\n",
    "    num_days_in_year = 365\n",
    "\n",
    "    if num_people > num_days_in_year:\n",
    "        prob_birthday_collision = 1\n",
    "    else:\n",
    "        prob_no_birthday_collision = 1\n",
    "\n",
    "        for i in range(1, num_people+1):\n",
    "            prob_no_birthday_collision *= (num_days_in_year - i)/num_days_in_year\n",
    "\n",
    "        prob_birthday_collision = 1 - prob_no_birthday_collision\n",
    "\n",
    "    return prob_birthday_collision"
   ]
  },
  {
   "cell_type": "code",
   "execution_count": 8,
   "id": "early-attitude",
   "metadata": {},
   "outputs": [
    {
     "data": {
      "text/html": [
       "<div>\n",
       "<style scoped>\n",
       "    .dataframe tbody tr th:only-of-type {\n",
       "        vertical-align: middle;\n",
       "    }\n",
       "\n",
       "    .dataframe tbody tr th {\n",
       "        vertical-align: top;\n",
       "    }\n",
       "\n",
       "    .dataframe thead th {\n",
       "        text-align: right;\n",
       "    }\n",
       "</style>\n",
       "<table border=\"1\" class=\"dataframe\">\n",
       "  <thead>\n",
       "    <tr style=\"text-align: right;\">\n",
       "      <th></th>\n",
       "      <th>NumPeople</th>\n",
       "      <th>Probability</th>\n",
       "    </tr>\n",
       "  </thead>\n",
       "  <tbody>\n",
       "    <tr>\n",
       "      <th>359</th>\n",
       "      <td>360</td>\n",
       "      <td>1.0</td>\n",
       "    </tr>\n",
       "    <tr>\n",
       "      <th>360</th>\n",
       "      <td>361</td>\n",
       "      <td>1.0</td>\n",
       "    </tr>\n",
       "    <tr>\n",
       "      <th>361</th>\n",
       "      <td>362</td>\n",
       "      <td>1.0</td>\n",
       "    </tr>\n",
       "    <tr>\n",
       "      <th>362</th>\n",
       "      <td>363</td>\n",
       "      <td>1.0</td>\n",
       "    </tr>\n",
       "    <tr>\n",
       "      <th>363</th>\n",
       "      <td>364</td>\n",
       "      <td>1.0</td>\n",
       "    </tr>\n",
       "  </tbody>\n",
       "</table>\n",
       "</div>"
      ],
      "text/plain": [
       "     NumPeople  Probability\n",
       "359        360          1.0\n",
       "360        361          1.0\n",
       "361        362          1.0\n",
       "362        363          1.0\n",
       "363        364          1.0"
      ]
     },
     "execution_count": 8,
     "metadata": {},
     "output_type": "execute_result"
    }
   ],
   "source": [
    "sim_data = []\n",
    "for i in range(1, 365):\n",
    "    sim_data.append({\"NumPeople\": i, \"Probability\": birthday_paradox_calc(i)})\n",
    "\n",
    "sim_data_df = pd.DataFrame(sim_data)\n",
    "sim_data_df.tail()"
   ]
  },
  {
   "cell_type": "code",
   "execution_count": 9,
   "id": "fifty-clear",
   "metadata": {},
   "outputs": [
    {
     "data": {
      "text/plain": [
       "(0.0, 365.0)"
      ]
     },
     "execution_count": 9,
     "metadata": {},
     "output_type": "execute_result"
    },
    {
     "data": {
      "image/png": "[encoded data removed]",
      "text/plain": [
       "<Figure size 1152x576 with 1 Axes>"
      ]
     },
     "metadata": {
      "needs_background": "light"
     },
     "output_type": "display_data"
    }
   ],
   "source": [
    "sim_data_df.plot(x=\"NumPeople\", y=\"Probability\", figsize=(16, 8))\n",
    "fig = plt.Figure()\n",
    "plt.hlines(0.9, 0, 365, colors='k', linestyles=\":\")\n",
    "plt.ylabel(\"Probability\")\n",
    "plt.grid()\n",
    "plt.xlim(0,365)"
   ]
  },
  {
   "cell_type": "markdown",
   "id": "white-newark",
   "metadata": {},
   "source": [
    "# Debugging\n",
    "\n",
    "The Debugger makes use of Xeus-Python in the background. Read more about the [JupyterLab debugger](https://jupyterlab.readthedocs.io/en/stable/user/debugger.html) on the website."
   ]
  },
  {
   "cell_type": "code",
   "execution_count": null,
   "id": "other-steps",
   "metadata": {},
   "outputs": [],
   "source": []
  }
 ],
 "metadata": {
  "kernelspec": {
   "display_name": "Python [conda env:bigDataWorkshop]",
   "language": "python",
   "name": "conda-env-bigDataWorkshop-xpython"
  },
  "language_info": {
   "file_extension": ".py",
   "mimetype": "text/x-python",
   "name": "python",
   "version": "3.8.6"
  }
 },
 "nbformat": 4,
 "nbformat_minor": 5
}
