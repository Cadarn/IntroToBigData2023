{
 "cells": [
  {
   "cell_type": "markdown",
   "id": "overall-accent",
   "metadata": {},
   "source": [
    "# Pandas and Time Series Data\n",
    "## Exploring Open Power Systems\n",
    "\n",
    "[Source of data](https://open-power-system-data.org) for daily consumption, wind, solar, wind+solar.\n",
    "\n",
    "Credit:\n",
    "- [https://www.dataquest.io/blog/tutorial-time-series-analysis-with-pandas](https://www.dataquest.io/blog/tutorial-time-series-analysis-with-pandas)\n",
    "- [Ian Ozsvald - PyData 2019 talk](https://www.youtube.com/watch?v=8upGdZMlkYM&list=PLGVZCDnMOq0ocea1dd0it7jX7HgvZCjSW&index=13)\n",
    "\n",
    "Data - [https://github.com/jenfly/opsd/raw/master/opsd_germany_daily.csv](https://github.com/jenfly/opsd/raw/master/opsd_germany_daily.csv)\n",
    "        "
   ]
  },
  {
   "cell_type": "code",
   "execution_count": null,
   "id": "coastal-climb",
   "metadata": {},
   "outputs": [],
   "source": [
    "%load_ext watermark"
   ]
  },
  {
   "cell_type": "code",
   "execution_count": null,
   "id": "secure-casino",
   "metadata": {},
   "outputs": [],
   "source": [
    "import pandas as pd\n",
    "import matplotlib.pyplot as plt\n",
    "import seaborn\n",
    "\n",
    "import watermark"
   ]
  },
  {
   "cell_type": "code",
   "execution_count": null,
   "id": "personalized-embassy",
   "metadata": {},
   "outputs": [],
   "source": [
    "%matplotlib inline"
   ]
  },
  {
   "cell_type": "code",
   "execution_count": null,
   "id": "ambient-probe",
   "metadata": {},
   "outputs": [],
   "source": [
    "%watermark -a \"Your Name\" -u -d -v --iversions"
   ]
  },
  {
   "cell_type": "markdown",
   "id": "assigned-dutch",
   "metadata": {},
   "source": [
    "## Date objects\n",
    "\n",
    "Datatime objects are timezone aware or unaware. In general you cannot mix and match and it doesn't really make sense to try.\n",
    "\n",
    "Generally better to have timezones attached to datetimes if you can.\n",
    "\n",
    "Pandas has some helpful tools for creating and manupulating datetimes."
   ]
  },
  {
   "cell_type": "code",
   "execution_count": null,
   "id": "pharmaceutical-tracker",
   "metadata": {},
   "outputs": [],
   "source": [
    "pd.to_datetime(\"2018-01-26 15:17\")"
   ]
  },
  {
   "cell_type": "code",
   "execution_count": null,
   "id": "refined-interim",
   "metadata": {},
   "outputs": [],
   "source": [
    "pd.to_datetime(\"2018-01-26\")"
   ]
  },
  {
   "cell_type": "code",
   "execution_count": null,
   "id": "expanded-drilling",
   "metadata": {},
   "outputs": [],
   "source": [
    "pd.to_datetime(\"2021-03-01T14:04:37Z\") # ISO 8601 is a good standard to use!"
   ]
  },
  {
   "cell_type": "code",
   "execution_count": null,
   "id": "ongoing-liverpool",
   "metadata": {},
   "outputs": [],
   "source": [
    "pd.to_datetime(\"2018-01-26 15:17\", utc=True)"
   ]
  },
  {
   "cell_type": "code",
   "execution_count": null,
   "id": "dimensional-quebec",
   "metadata": {},
   "outputs": [],
   "source": [
    "# Beware!\n",
    "\n",
    "pd.to_datetime(\"8/7/1999\")"
   ]
  },
  {
   "cell_type": "code",
   "execution_count": null,
   "id": "adjacent-mattress",
   "metadata": {},
   "outputs": [],
   "source": [
    "pd.to_datetime(\"8/7/1999\", dayfirst=True)"
   ]
  },
  {
   "cell_type": "markdown",
   "id": "round-closing",
   "metadata": {},
   "source": [
    "We can also create date ranges using pandas!"
   ]
  },
  {
   "cell_type": "code",
   "execution_count": null,
   "id": "liberal-bridges",
   "metadata": {},
   "outputs": [],
   "source": [
    "pd.date_range(\"2019-04-01\", freq=\"1d\", periods=45)"
   ]
  },
  {
   "cell_type": "code",
   "execution_count": null,
   "id": "optical-crisis",
   "metadata": {},
   "outputs": [],
   "source": [
    "pd.timedelta_range(start=\"1 day\", end=\"14 day\", periods=14)"
   ]
  },
  {
   "cell_type": "code",
   "execution_count": null,
   "id": "disabled-sessions",
   "metadata": {},
   "outputs": [],
   "source": [
    "pd.timedelta_range(start=\"1 day\", periods=14, freq=\"12H\")"
   ]
  },
  {
   "cell_type": "markdown",
   "id": "sonic-season",
   "metadata": {},
   "source": [
    "# Loading Open Utilities Data\n",
    "\n",
    "Pandas can read from many sources including CSV, SQL, HDF5 and more ... (read the documentation)"
   ]
  },
  {
   "cell_type": "code",
   "execution_count": null,
   "id": "antique-divide",
   "metadata": {},
   "outputs": [],
   "source": [
    "opsd_daily_df = pd.read_csv(\"https://github.com/jenfly/opsd/raw/master/opsd_germany_daily.csv\")"
   ]
  },
  {
   "cell_type": "code",
   "execution_count": null,
   "id": "sustainable-antarctica",
   "metadata": {},
   "outputs": [],
   "source": [
    "opsd_daily_df.shape"
   ]
  },
  {
   "cell_type": "code",
   "execution_count": null,
   "id": "african-defendant",
   "metadata": {},
   "outputs": [],
   "source": [
    "opsd_daily_df.head()"
   ]
  },
  {
   "cell_type": "code",
   "execution_count": null,
   "id": "informed-infection",
   "metadata": {},
   "outputs": [],
   "source": [
    "opsd_daily_df.tail()"
   ]
  },
  {
   "cell_type": "code",
   "execution_count": null,
   "id": "absolute-oliver",
   "metadata": {},
   "outputs": [],
   "source": [
    "opsd_daily_df.dtypes"
   ]
  },
  {
   "cell_type": "code",
   "execution_count": null,
   "id": "preliminary-detail",
   "metadata": {},
   "outputs": [],
   "source": [
    "opsd_daily_df.loc[:, \"Date\"] = opsd_daily_df['Date'].map(pd.to_datetime)"
   ]
  },
  {
   "cell_type": "code",
   "execution_count": null,
   "id": "english-database",
   "metadata": {},
   "outputs": [],
   "source": [
    "opsd_daily_df = opsd_daily_df.set_index('Date')"
   ]
  },
  {
   "cell_type": "code",
   "execution_count": null,
   "id": "cutting-kernel",
   "metadata": {},
   "outputs": [],
   "source": [
    "opsd_daily_df.sample(5)"
   ]
  },
  {
   "cell_type": "code",
   "execution_count": null,
   "id": "permanent-hungarian",
   "metadata": {},
   "outputs": [],
   "source": [
    "opsd_daily_df.info()"
   ]
  },
  {
   "cell_type": "markdown",
   "id": "vanilla-publicity",
   "metadata": {},
   "source": [
    "### Enriching the data with new columns"
   ]
  },
  {
   "cell_type": "code",
   "execution_count": null,
   "id": "compliant-malaysia",
   "metadata": {},
   "outputs": [],
   "source": [
    "opsd_daily_df[\"Year\"] = opsd_daily_df.index.year\n",
    "opsd_daily_df[\"Month\"] = opsd_daily_df.index.month\n",
    "opsd_daily_df[\"Weekday Name\"] = opsd_daily_df.index.day_name()\n",
    "opsd_daily_df[\"Weekday\"] = opsd_daily_df.index.weekday\n",
    "\n",
    "opsd_daily_df[\"Is Weekend\"] = opsd_daily_df[\"Weekday\"].isin((5,6))"
   ]
  },
  {
   "cell_type": "code",
   "execution_count": null,
   "id": "taken-review",
   "metadata": {},
   "outputs": [],
   "source": [
    "opsd_daily_df.head(7)"
   ]
  },
  {
   "cell_type": "code",
   "execution_count": null,
   "id": "mexican-formula",
   "metadata": {},
   "outputs": [],
   "source": [
    "opsd_daily_df[\"Weekday Name\"].value_counts()"
   ]
  },
  {
   "cell_type": "code",
   "execution_count": null,
   "id": "approximate-prediction",
   "metadata": {},
   "outputs": [],
   "source": [
    "opsd_daily_df.describe()"
   ]
  },
  {
   "cell_type": "code",
   "execution_count": null,
   "id": "choice-concord",
   "metadata": {},
   "outputs": [],
   "source": [
    "from pandas_profiling import ProfileReport"
   ]
  },
  {
   "cell_type": "code",
   "execution_count": null,
   "id": "headed-johnson",
   "metadata": {},
   "outputs": [],
   "source": [
    "profile = ProfileReport(opsd_daily_df, title=\"Pandas Profiling Report\")"
   ]
  },
  {
   "cell_type": "code",
   "execution_count": null,
   "id": "shaped-april",
   "metadata": {
    "tags": []
   },
   "outputs": [],
   "source": [
    "profile"
   ]
  },
  {
   "cell_type": "markdown",
   "id": "overall-contribution",
   "metadata": {},
   "source": [
    "## Visualisation"
   ]
  },
  {
   "cell_type": "code",
   "execution_count": null,
   "id": "vocal-spine",
   "metadata": {},
   "outputs": [],
   "source": [
    "import seaborn as sns"
   ]
  },
  {
   "cell_type": "code",
   "execution_count": null,
   "id": "demographic-credits",
   "metadata": {},
   "outputs": [],
   "source": [
    "# Use default style for Seaborn and set plot size\n",
    "\n",
    "sns.set(rc={'figure.figsize': (16, 8)})"
   ]
  },
  {
   "cell_type": "code",
   "execution_count": null,
   "id": "cubic-bernard",
   "metadata": {},
   "outputs": [],
   "source": [
    "opsd_daily_df['Consumption'].plot(linewidth=0.5)"
   ]
  },
  {
   "cell_type": "code",
   "execution_count": null,
   "id": "public-valve",
   "metadata": {},
   "outputs": [],
   "source": [
    "cols_plot = [\"Consumption\", \"Solar\", \"Wind\"]\n",
    "axes = opsd_daily_df[cols_plot].plot(marker='.', alpha=0.5, linestyle='None', subplots=True)\n",
    "for ax in axes:\n",
    "    ax.set_ylabel(\"Daily Totals (GWh)\")"
   ]
  },
  {
   "cell_type": "markdown",
   "id": "molecular-facility",
   "metadata": {},
   "source": [
    "#### What behaviours can you see in the data?\n",
    "\n",
    "What patterns are identifiable by eye?"
   ]
  },
  {
   "cell_type": "markdown",
   "id": "closed-berry",
   "metadata": {},
   "source": [
    "### Exploring the patterns"
   ]
  },
  {
   "cell_type": "code",
   "execution_count": null,
   "id": "partial-memorial",
   "metadata": {},
   "outputs": [],
   "source": [
    "ax = opsd_daily_df.loc[\"2017\", \"Consumption\"].plot()\n",
    "ax.set_ylabel(\"Daily Consumption (GWh)\")\n",
    "ax.set_title(\"2017's Consumption by Day\")"
   ]
  },
  {
   "cell_type": "markdown",
   "id": "built-serum",
   "metadata": {},
   "source": [
    "### Exercise: Can you group the data to get monthly means for consumption?\n",
    "\n",
    "- Take a subset of the data for 2017\n",
    "- Use the ```groupby``` function to aggregate the data by month\n",
    "- You can calculate the mean, but you can also use other aggrgate functions e.g. max, min, sum, median, std. Experiment and see what you find\n",
    "- Don't forget to plot the results!"
   ]
  },
  {
   "cell_type": "code",
   "execution_count": null,
   "id": "handled-country",
   "metadata": {
    "tags": []
   },
   "outputs": [],
   "source": [
    "# Code Here"
   ]
  },
  {
   "cell_type": "code",
   "execution_count": null,
   "id": "flying-wings",
   "metadata": {
    "tags": []
   },
   "outputs": [],
   "source": [
    "# Code here"
   ]
  },
  {
   "cell_type": "code",
   "execution_count": null,
   "id": "certified-cleveland",
   "metadata": {
    "tags": []
   },
   "outputs": [],
   "source": [
    "# Plot here"
   ]
  },
  {
   "cell_type": "markdown",
   "id": "awful-complexity",
   "metadata": {},
   "source": [
    "### Diving in deeper"
   ]
  },
  {
   "cell_type": "code",
   "execution_count": null,
   "id": "solar-award",
   "metadata": {},
   "outputs": [],
   "source": [
    "ax = opsd_daily_df.loc[\"2017-01\":\"2017-03\", \"Consumption\"].plot(marker='o', linestyle='-')\n",
    "ax.set_ylabel(\"Daily Consumption (GWh)\");"
   ]
  },
  {
   "cell_type": "code",
   "execution_count": null,
   "id": "regulated-pitch",
   "metadata": {},
   "outputs": [],
   "source": [
    "import matplotlib.dates as mdates"
   ]
  },
  {
   "cell_type": "code",
   "execution_count": null,
   "id": "fuzzy-pledge",
   "metadata": {},
   "outputs": [],
   "source": [
    "fig, ax = plt.subplots()\n",
    "ax.plot(opsd_daily_df.loc[\"2017-01\": \"2017-03\", \"Consumption\"], marker='o', linestyle='-')\n",
    "ax.set_ylabel(\"Daily Consumption (GWh)\")\n",
    "ax.set_title(\"Jan-Mar 2017 Electricity Consumption\")\n",
    "\n",
    "# Change the markers to weekly intervals\n",
    "ax.xaxis.set_major_locator(mdates.WeekdayLocator(byweekday=mdates.MONDAY))\n",
    "\n",
    "# Format the x-tick labels\n",
    "ax.xaxis.set_major_formatter(mdates.DateFormatter('%b %d'));"
   ]
  },
  {
   "cell_type": "markdown",
   "id": "biblical-philippines",
   "metadata": {},
   "source": [
    "### Grouping on the weekday to see the mean behaviour by day of week"
   ]
  },
  {
   "cell_type": "code",
   "execution_count": null,
   "id": "boxed-intensity",
   "metadata": {},
   "outputs": [],
   "source": [
    "mean_by_weekday_df = opsd_daily_df.loc[\"2017\", [\"Consumption\", \"Weekday\"]].groupby(\"Weekday\").mean()\n",
    "mean_by_weekday_df"
   ]
  },
  {
   "cell_type": "code",
   "execution_count": null,
   "id": "wooden-stand",
   "metadata": {},
   "outputs": [],
   "source": [
    "mean_by_weekday_df.plot();"
   ]
  },
  {
   "cell_type": "code",
   "execution_count": null,
   "id": "following-train",
   "metadata": {},
   "outputs": [],
   "source": [
    "day_of_week = {0: \"Monday\", 1: \"Tuesday\", 2: \"Wednesday\", 3: \"Thursday\", 4: \"Friday\", 5: \"Saturday\", 6: \"Sunday\"}\n",
    "new_index = mean_by_weekday_df.index.map(day_of_week)\n",
    "mean_by_weekday_df.set_index(new_index)"
   ]
  },
  {
   "cell_type": "code",
   "execution_count": null,
   "id": "executive-purple",
   "metadata": {},
   "outputs": [],
   "source": [
    "mean_by_weekday_df.set_index(new_index).plot();"
   ]
  },
  {
   "cell_type": "markdown",
   "id": "promising-turkey",
   "metadata": {},
   "source": [
    "## Summarising the seasonality using Seaborn\n",
    "\n",
    "Looking for patterns, behaviours and outliers"
   ]
  },
  {
   "cell_type": "code",
   "execution_count": null,
   "id": "ecological-referral",
   "metadata": {},
   "outputs": [],
   "source": [
    "fig, axes = plt.subplots(3, 1, figsize=(11, 10), sharex=True)\n",
    "for name, ax in zip([\"Consumption\", \"Solar\", \"Wind\"], axes):\n",
    "    sns.boxplot(data=opsd_daily_df, x=\"Month\", y=name, ax=ax)\n",
    "    ax.set_ylabel(\"GWh\")\n",
    "    ax.set_title(f\"Plot of {name}\")\n",
    "    \n",
    "    # Clean up the automatic x-axis label from all but the last plot\n",
    "    if ax != axes[-1]:\n",
    "        ax.set_xlabel(\"\")"
   ]
  },
  {
   "cell_type": "code",
   "execution_count": null,
   "id": "apart-trinity",
   "metadata": {},
   "outputs": [],
   "source": [
    "sns.boxplot(data=opsd_daily_df, x=\"Weekday Name\", y=\"Consumption\");"
   ]
  },
  {
   "cell_type": "markdown",
   "id": "aging-testimony",
   "metadata": {},
   "source": [
    "#### What if we want the data in a different order?"
   ]
  },
  {
   "cell_type": "code",
   "execution_count": null,
   "id": "derived-minister",
   "metadata": {},
   "outputs": [],
   "source": [
    "day_of_week"
   ]
  },
  {
   "cell_type": "code",
   "execution_count": null,
   "id": "italian-fleece",
   "metadata": {},
   "outputs": [],
   "source": [
    "day_of_week.values()"
   ]
  },
  {
   "cell_type": "code",
   "execution_count": null,
   "id": "better-population",
   "metadata": {},
   "outputs": [],
   "source": [
    "sns.boxplot(data=opsd_daily_df, x=\"Weekday Name\", y=\"Consumption\", order=day_of_week.values())"
   ]
  },
  {
   "cell_type": "markdown",
   "id": "interim-candidate",
   "metadata": {},
   "source": [
    "#### Where do the outliers come from? Are there any holidays in the data? "
   ]
  },
  {
   "cell_type": "code",
   "execution_count": null,
   "id": "domestic-membership",
   "metadata": {},
   "outputs": [],
   "source": [
    "daily_mask = opsd_daily_df['Weekday Name'] == \"Monday\"\n",
    "opsd_daily_df[daily_mask].query(\"Consumption < 1000\").sort_values(\"Month\")"
   ]
  },
  {
   "cell_type": "markdown",
   "id": "fluid-arabic",
   "metadata": {},
   "source": [
    "## Autocorrelation and lags\n",
    "\n",
    "How simialr is today's point to the same point N days in the future? Autocorreclation tests all frequencies.\n",
    "\n",
    "Lags look at 1 frequency (default is 1 unit ahead)"
   ]
  },
  {
   "cell_type": "code",
   "execution_count": null,
   "id": "residential-shaft",
   "metadata": {},
   "outputs": [],
   "source": [
    "from pandas.plotting import autocorrelation_plot"
   ]
  },
  {
   "cell_type": "code",
   "execution_count": null,
   "id": "political-prize",
   "metadata": {},
   "outputs": [],
   "source": [
    "autocorrelation_plot(opsd_daily_df[\"Consumption\"])"
   ]
  },
  {
   "cell_type": "code",
   "execution_count": null,
   "id": "southern-composition",
   "metadata": {},
   "outputs": [],
   "source": [
    "fig, ax = plt.subplots();\n",
    "autocorrelation_plot(opsd_daily_df[\"Consumption\"], ax=ax)\n",
    "ax.set_xlim(0, 30)"
   ]
  },
  {
   "cell_type": "code",
   "execution_count": null,
   "id": "color-receipt",
   "metadata": {},
   "outputs": [],
   "source": [
    "fig, ax = plt.subplots();\n",
    "autocorrelation_plot(opsd_daily_df[\"Consumption\"], ax=ax)\n",
    "ax.set_xlim(0, 360)"
   ]
  },
  {
   "cell_type": "markdown",
   "id": "democratic-gather",
   "metadata": {},
   "source": [
    "Lag plot shows structure between $y(t)$ and $y(t+1)$. A visual relationship suggests there is structure in the data."
   ]
  },
  {
   "cell_type": "code",
   "execution_count": null,
   "id": "dress-friday",
   "metadata": {},
   "outputs": [],
   "source": [
    "from pandas.plotting import lag_plot\n",
    "\n",
    "data = opsd_daily_df.loc[\"2013\"]\n",
    "lag_plot(data[\"Consumption\"]);"
   ]
  },
  {
   "cell_type": "code",
   "execution_count": null,
   "id": "assured-power",
   "metadata": {},
   "outputs": [],
   "source": [
    "lag_plot(data[\"Consumption\"], c=data[\"Is Weekend\"][:-1], cmap='viridis');"
   ]
  },
  {
   "cell_type": "markdown",
   "id": "conservative-seventh",
   "metadata": {},
   "source": [
    "#### Exercise: Can you show the lag plot by day of week?\n",
    "\n",
    "The Viridis colourmap goes from purple to green to yellow - do we see any daily structure?"
   ]
  },
  {
   "cell_type": "code",
   "execution_count": null,
   "id": "american-welsh",
   "metadata": {},
   "outputs": [],
   "source": [
    "# your code here"
   ]
  },
  {
   "cell_type": "markdown",
   "id": "royal-genetics",
   "metadata": {},
   "source": [
    "## Data ranges and resampling"
   ]
  },
  {
   "cell_type": "code",
   "execution_count": null,
   "id": "exciting-mystery",
   "metadata": {},
   "outputs": [],
   "source": [
    "pd.date_range(\"2020-02-04\", periods=12, freq=\"H\")"
   ]
  },
  {
   "cell_type": "code",
   "execution_count": null,
   "id": "subsequent-cologne",
   "metadata": {},
   "outputs": [],
   "source": [
    "opsd_daily_df.index[:5]"
   ]
  },
  {
   "cell_type": "markdown",
   "id": "fossil-trinidad",
   "metadata": {},
   "source": [
    "Let's make a small copy"
   ]
  },
  {
   "cell_type": "code",
   "execution_count": null,
   "id": "collectible-sherman",
   "metadata": {},
   "outputs": [],
   "source": [
    "times_sample = pd.to_datetime([\"2013-02-03\", \"2013-02-06\", \"2013-02-08\"])\n",
    "\n",
    "consum_sample_df = opsd_daily_df.loc[times_sample, [\"Consumption\"]].copy()\n",
    "consum_sample_df"
   ]
  },
  {
   "cell_type": "code",
   "execution_count": null,
   "id": "involved-wayne",
   "metadata": {},
   "outputs": [],
   "source": [
    "# Convert the data to daily frequency, without filling in any missing data\n",
    "consum_freq_df = consum_sample_df.asfreq('D')\n",
    "consum_freq_df"
   ]
  },
  {
   "cell_type": "markdown",
   "id": "precise-dance",
   "metadata": {},
   "source": [
    "### How do we fill in the missing data?"
   ]
  },
  {
   "cell_type": "code",
   "execution_count": null,
   "id": "pleased-house",
   "metadata": {},
   "outputs": [],
   "source": [
    "consum_freq_df[\"Consumption - Forward Fill\"] = consum_sample_df.asfreq(\"D\", method=\"ffill\")\n",
    "consum_freq_df[\"Consumption - Backward Fill\"] = consum_sample_df.asfreq(\"D\", method=\"bfill\")\n",
    "consum_freq_df"
   ]
  },
  {
   "cell_type": "markdown",
   "id": "opened-storm",
   "metadata": {},
   "source": [
    "### Weekly resampling - downsampling our data"
   ]
  },
  {
   "cell_type": "code",
   "execution_count": null,
   "id": "geological-oracle",
   "metadata": {},
   "outputs": [],
   "source": [
    "# Specify the columns we want to include\n",
    "data_columns = [\"Consumption\", \"Wind\", \"Solar\", \"Wind+Solar\"]\n",
    "\n",
    "# Resample to weekly frequency, aggregating with mean\n",
    "opsd_weekly_mean_df = opsd_daily_df[data_columns].resample('W').mean()\n",
    "opsd_weekly_mean_df.tail(10)"
   ]
  },
  {
   "cell_type": "markdown",
   "id": "solid-internet",
   "metadata": {},
   "source": [
    "What's going on? What do we expect to see?"
   ]
  },
  {
   "cell_type": "code",
   "execution_count": null,
   "id": "proud-rocket",
   "metadata": {},
   "outputs": [],
   "source": [
    "start, end = \"2017-01\", \"2017-06\"\n",
    "\n",
    "# Plot daily and weekly resample time series together\n",
    "fig, ax = plt.subplots()\n",
    "ax.plot(opsd_daily_df.loc[start:end, \"Solar\"],\n",
    "        marker='.', \n",
    "        linestyle=\"-\", linewidth=0.5, \n",
    "        label=\"Daily\"\n",
    "       )\n",
    "\n",
    "ax.plot(opsd_weekly_mean_df.loc[start:end, \"Solar\"],\n",
    "        marker=\"o\", markersize=8,\n",
    "        linestyle=\"-\",\n",
    "        label=\"Weekly Mean Resample\"\n",
    "       )\n",
    "\n",
    "ax.set_ylabel(\"Solar Production (GWh)\")\n",
    "ax.legend()"
   ]
  },
  {
   "cell_type": "markdown",
   "id": "charitable-ghost",
   "metadata": {},
   "source": [
    "### Rolling means"
   ]
  },
  {
   "cell_type": "code",
   "execution_count": null,
   "id": "expected-momentum",
   "metadata": {},
   "outputs": [],
   "source": [
    "# Calculate the centred 7-day rolling mean (not centred, using history only)\n",
    "\n",
    "opsd_7d_df = opsd_daily_df[data_columns].rolling(7, center=False).mean()\n",
    "opsd_7d_df.head(10)"
   ]
  },
  {
   "cell_type": "code",
   "execution_count": null,
   "id": "gothic-atmosphere",
   "metadata": {},
   "outputs": [],
   "source": [
    "start, end = \"2017-01\", \"2017-06\"\n",
    "\n",
    "# Plot daily and weekly resample time series together\n",
    "fig, ax = plt.subplots()\n",
    "ax.plot(opsd_daily_df.loc[start:end, \"Solar\"],\n",
    "        marker='.', \n",
    "        linestyle=\"-\", linewidth=0.5, \n",
    "        label=\"Daily\"\n",
    "       )\n",
    "\n",
    "ax.plot(opsd_weekly_mean_df.loc[start:end, \"Solar\"],\n",
    "        marker=\"o\", markersize=8,\n",
    "        linestyle=\"-\",\n",
    "        label=\"Weekly Mean Resample\"\n",
    "       )\n",
    "\n",
    "ax.plot(opsd_7d_df.loc[start:end, \"Solar\"],\n",
    "        marker=\".\",\n",
    "        linestyle=\"-\",\n",
    "        label=\"7d Rolling Mean\"\n",
    "       )\n",
    "\n",
    "ax.set_ylabel(\"Solar Production (GWh)\")\n",
    "ax.legend()"
   ]
  },
  {
   "cell_type": "markdown",
   "id": "alpha-invite",
   "metadata": {},
   "source": [
    "### Trends\n",
    "\n",
    "If we plot 365 trend vs a 7 day trend what can we see for overall consumption and green energy production"
   ]
  },
  {
   "cell_type": "code",
   "execution_count": null,
   "id": "coordinate-force",
   "metadata": {},
   "outputs": [],
   "source": [
    "opsd_365d_df = opsd_daily_df[data_columns].rolling(window=365, center=False, min_periods=360).mean()"
   ]
  },
  {
   "cell_type": "code",
   "execution_count": null,
   "id": "royal-peripheral",
   "metadata": {},
   "outputs": [],
   "source": [
    "fig, ax = plt.subplots(figsize=(14, 6))\n",
    "\n",
    "ax.plot(opsd_daily_df.loc[:, \"Consumption\"],\n",
    "        marker='.', markersize=2,\n",
    "        linestyle=\"None\", color=\"0.6\",\n",
    "        label=\"Daily\"\n",
    "       )\n",
    "\n",
    "ax.plot(opsd_7d_df.loc[:, \"Consumption\"],\n",
    "        linewidth=2,\n",
    "        label=\"7d Rolling Mean\"\n",
    "       )\n",
    "\n",
    "ax.plot(opsd_365d_df.loc[:, \"Consumption\"],\n",
    "        linewidth=3, color=\"0.2\",\n",
    "        label=\"Trend (365d Rolling Mean)\"\n",
    "       )\n",
    "\n",
    "ax.xaxis.set_major_locator(mdates.YearLocator())\n",
    "ax.legend()\n",
    "ax.set_xlabel(\"Year\")\n",
    "ax.set_ylabel(\"Consumption (GWh)\")\n",
    "ax.set_title(\"Treads in Electricity Consumption\")"
   ]
  },
  {
   "cell_type": "code",
   "execution_count": null,
   "id": "oriental-piece",
   "metadata": {},
   "outputs": [],
   "source": [
    "fig, ax = plt.subplots()\n",
    "\n",
    "for power_source in [\"Wind\", \"Solar\", \"Wind+Solar\"]:\n",
    "    ax.plot(opsd_365d_df.loc[:, power_source],\n",
    "            linewidth=2,\n",
    "            label=f\"{power_source}\"\n",
    "           )\n",
    "    \n",
    "ax.xaxis.set_major_locator(mdates.YearLocator())\n",
    "ax.set_ylim(0, 400)    \n",
    "ax.legend()\n",
    "ax.set_xlabel(\"Year\")\n",
    "ax.set_ylabel(\"Production (GWh)\")\n",
    "ax.set_title(\"Treads in Electricity Production (365d Rolling Mean)\");"
   ]
  },
  {
   "cell_type": "markdown",
   "id": "assisted-success",
   "metadata": {},
   "source": [
    "## What is the share of green power over the years?"
   ]
  },
  {
   "cell_type": "code",
   "execution_count": null,
   "id": "congressional-great",
   "metadata": {},
   "outputs": [],
   "source": [
    "# Compute the annual sums, setting the value to NaN for any year\n",
    "# with less than 360 days of data\n",
    "\n",
    "opsd_annual_df = opsd_daily_df[data_columns].resample(\"A\").sum(min_count=360)\n",
    "\n",
    "# The default index of the resampled data is the last day of each year\n",
    "# Reset the index to only be the year component\n",
    "opsd_annual_df = opsd_annual_df.set_index(opsd_annual_df.index.year)\n",
    "opsd_annual_df.index.name = \"Year\"\n",
    "opsd_annual_df"
   ]
  },
  {
   "cell_type": "markdown",
   "id": "familiar-program",
   "metadata": {},
   "source": [
    "### Exercise: Compute the fraction of wind+solar to overall consumption and plot it\n",
    "\n",
    "Make sure to label your plot appropriately"
   ]
  },
  {
   "cell_type": "code",
   "execution_count": null,
   "id": "progressive-sustainability",
   "metadata": {},
   "outputs": [],
   "source": [
    "# Code here"
   ]
  },
  {
   "cell_type": "code",
   "execution_count": null,
   "id": "wired-difference",
   "metadata": {},
   "outputs": [],
   "source": []
  },
  {
   "cell_type": "markdown",
   "id": "sexual-treatment",
   "metadata": {},
   "source": [
    "# Extension\n",
    "\n",
    "Check out the Prophet time series modelling library from Facebook [here](https://facebook.github.io/prophet/)"
   ]
  },
  {
   "cell_type": "code",
   "execution_count": null,
   "id": "agricultural-secretariat",
   "metadata": {},
   "outputs": [],
   "source": []
  }
 ],
 "metadata": {
  "kernelspec": {
   "display_name": "Python [conda env:ibd23]",
   "language": "python",
   "name": "conda-env-ibd23-py"
  },
  "language_info": {
   "codemirror_mode": {
    "name": "ipython",
    "version": 3
   },
   "file_extension": ".py",
   "mimetype": "text/x-python",
   "name": "python",
   "nbconvert_exporter": "python",
   "pygments_lexer": "ipython3",
   "version": "3.10.9"
  },
  "toc-autonumbering": true,
  "toc-showcode": false,
  "toc-showmarkdowntxt": true
 },
 "nbformat": 4,
 "nbformat_minor": 5
}
