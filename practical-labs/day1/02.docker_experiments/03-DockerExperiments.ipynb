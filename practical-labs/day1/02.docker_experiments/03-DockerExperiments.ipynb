{
 "cells": [
  {
   "cell_type": "markdown",
   "id": "cooked-crack",
   "metadata": {},
   "source": [
    "# Docker experiments\n",
    "## Connecting to a Mongo database in a container\n",
    "\n",
    "We will connect to Mongo db using the pymongo library; you need to have a mongo db server running. If using Docker, try:\n",
    "\n",
    "```docker run -d -p 27017:27017 --name myMongoDB mongo:latest```\n",
    "\n",
    "We will then:\n",
    "\n",
    "1. Make a new database called movie_db\n",
    "2. Create a collection called fave_movies\n",
    "3. Add some records to the database\n",
    "4. Query those records back\n",
    "5. Add an extra new record and show the number of records has changed"
   ]
  },
  {
   "cell_type": "code",
   "execution_count": 1,
   "id": "cleared-retreat",
   "metadata": {},
   "outputs": [],
   "source": [
    "import pandas as pd\n",
    "from pymongo import MongoClient"
   ]
  },
  {
   "cell_type": "code",
   "execution_count": 2,
   "id": "former-burst",
   "metadata": {},
   "outputs": [],
   "source": [
    "# This establishes a connection to Mongo\n",
    "\n",
    "client = MongoClient('localhost', 27017)"
   ]
  },
  {
   "cell_type": "code",
   "execution_count": 3,
   "id": "anticipated-complex",
   "metadata": {},
   "outputs": [],
   "source": [
    "# Connect to a database called \"movie_db\", \n",
    "# if it doesn't exist it will create a new database\n",
    "db = client[\"movie_db\"]"
   ]
  },
  {
   "cell_type": "code",
   "execution_count": 4,
   "id": "drawn-fields",
   "metadata": {},
   "outputs": [],
   "source": [
    "# Connect to a collection called \"fave_movies\", \n",
    "# if it doesn't exist it will create a new collection\n",
    "collection = db[\"fave_movies\"]"
   ]
  },
  {
   "cell_type": "code",
   "execution_count": 5,
   "id": "israeli-smith",
   "metadata": {},
   "outputs": [],
   "source": [
    "# Make some fake data\n",
    "\n",
    "sample_movie1 = {\n",
    "    \"Title\": \"Star Wars\",\n",
    "    \"Director\": \"George Lucas\",\n",
    "    \"Year\": 1977\n",
    "}\n",
    "\n",
    "sample_movie2 = {\n",
    "    \"Title\": \"Tenet\",\n",
    "    \"Director\": \"Christopher Nolan\",\n",
    "    \"Year\": 2020    \n",
    "}"
   ]
  },
  {
   "cell_type": "code",
   "execution_count": 6,
   "id": "transsexual-saying",
   "metadata": {},
   "outputs": [],
   "source": [
    "all_data = [sample_movie1, sample_movie2]"
   ]
  },
  {
   "cell_type": "code",
   "execution_count": 7,
   "id": "affected-apache",
   "metadata": {},
   "outputs": [
    {
     "data": {
      "text/plain": [
       "[{'Title': 'Star Wars', 'Director': 'George Lucas', 'Year': 1977},\n",
       " {'Title': 'Tenet', 'Director': 'Christopher Nolan', 'Year': 2020}]"
      ]
     },
     "execution_count": 7,
     "metadata": {},
     "output_type": "execute_result"
    }
   ],
   "source": [
    "all_data"
   ]
  },
  {
   "cell_type": "code",
   "execution_count": 8,
   "id": "dying-harris",
   "metadata": {},
   "outputs": [
    {
     "data": {
      "text/plain": [
       "0"
      ]
     },
     "execution_count": 8,
     "metadata": {},
     "output_type": "execute_result"
    }
   ],
   "source": [
    "# Show there are no records in our collection yet\n",
    "collection.estimated_document_count()"
   ]
  },
  {
   "cell_type": "code",
   "execution_count": 9,
   "id": "behavioral-circular",
   "metadata": {},
   "outputs": [],
   "source": [
    "# Bulk insert our list of movies\n",
    "\n",
    "result = collection.insert_many(all_data)"
   ]
  },
  {
   "cell_type": "code",
   "execution_count": 10,
   "id": "proof-netherlands",
   "metadata": {},
   "outputs": [
    {
     "data": {
      "text/plain": [
       "{'_id': ObjectId('603d7a8566f96887a2ebc7d9'),\n",
       " 'Title': 'Star Wars',\n",
       " 'Director': 'George Lucas',\n",
       " 'Year': 1977}"
      ]
     },
     "execution_count": 10,
     "metadata": {},
     "output_type": "execute_result"
    }
   ],
   "source": [
    "# Query a random record (its not really random, it is the 1st record)\n",
    "collection.find_one()"
   ]
  },
  {
   "cell_type": "code",
   "execution_count": 11,
   "id": "boolean-ecuador",
   "metadata": {},
   "outputs": [
    {
     "data": {
      "text/html": [
       "<div>\n",
       "<style scoped>\n",
       "    .dataframe tbody tr th:only-of-type {\n",
       "        vertical-align: middle;\n",
       "    }\n",
       "\n",
       "    .dataframe tbody tr th {\n",
       "        vertical-align: top;\n",
       "    }\n",
       "\n",
       "    .dataframe thead th {\n",
       "        text-align: right;\n",
       "    }\n",
       "</style>\n",
       "<table border=\"1\" class=\"dataframe\">\n",
       "  <thead>\n",
       "    <tr style=\"text-align: right;\">\n",
       "      <th></th>\n",
       "      <th>_id</th>\n",
       "      <th>Title</th>\n",
       "      <th>Director</th>\n",
       "      <th>Year</th>\n",
       "    </tr>\n",
       "  </thead>\n",
       "  <tbody>\n",
       "    <tr>\n",
       "      <th>0</th>\n",
       "      <td>603d7a8566f96887a2ebc7d9</td>\n",
       "      <td>Star Wars</td>\n",
       "      <td>George Lucas</td>\n",
       "      <td>1977</td>\n",
       "    </tr>\n",
       "    <tr>\n",
       "      <th>1</th>\n",
       "      <td>603d7a8566f96887a2ebc7da</td>\n",
       "      <td>Tenet</td>\n",
       "      <td>Christopher Nolan</td>\n",
       "      <td>2020</td>\n",
       "    </tr>\n",
       "  </tbody>\n",
       "</table>\n",
       "</div>"
      ],
      "text/plain": [
       "                        _id      Title           Director  Year\n",
       "0  603d7a8566f96887a2ebc7d9  Star Wars       George Lucas  1977\n",
       "1  603d7a8566f96887a2ebc7da      Tenet  Christopher Nolan  2020"
      ]
     },
     "execution_count": 11,
     "metadata": {},
     "output_type": "execute_result"
    }
   ],
   "source": [
    "# Extract all the records and put them in a DataFrame\n",
    "\n",
    "pd.DataFrame(collection.find())"
   ]
  },
  {
   "cell_type": "code",
   "execution_count": 12,
   "id": "accompanied-defendant",
   "metadata": {},
   "outputs": [
    {
     "data": {
      "text/plain": [
       "2"
      ]
     },
     "execution_count": 12,
     "metadata": {},
     "output_type": "execute_result"
    }
   ],
   "source": [
    "# Show there are 2 records in our collection so far\n",
    "collection.estimated_document_count()"
   ]
  },
  {
   "cell_type": "code",
   "execution_count": 13,
   "id": "arctic-boutique",
   "metadata": {},
   "outputs": [],
   "source": [
    "# Add a new movie with additional fields\n",
    "\n",
    "sample_movie3 = {\n",
    "    \"Title\": \"Batman\",\n",
    "    \"Director\": \"Christopher Nolan\",\n",
    "    \"Actor\": \"Christian Bale\",\n",
    "    \"Year\": 2020,\n",
    "    \"BoxOffice\": 10000000\n",
    "}\n",
    "\n",
    "result = collection.insert_one(sample_movie3)"
   ]
  },
  {
   "cell_type": "code",
   "execution_count": 14,
   "id": "prime-henry",
   "metadata": {},
   "outputs": [
    {
     "data": {
      "text/plain": [
       "3"
      ]
     },
     "execution_count": 14,
     "metadata": {},
     "output_type": "execute_result"
    }
   ],
   "source": [
    "# Show the number of records has increased\n",
    "\n",
    "collection.estimated_document_count()"
   ]
  },
  {
   "cell_type": "code",
   "execution_count": 15,
   "id": "breeding-might",
   "metadata": {},
   "outputs": [
    {
     "data": {
      "text/html": [
       "<div>\n",
       "<style scoped>\n",
       "    .dataframe tbody tr th:only-of-type {\n",
       "        vertical-align: middle;\n",
       "    }\n",
       "\n",
       "    .dataframe tbody tr th {\n",
       "        vertical-align: top;\n",
       "    }\n",
       "\n",
       "    .dataframe thead th {\n",
       "        text-align: right;\n",
       "    }\n",
       "</style>\n",
       "<table border=\"1\" class=\"dataframe\">\n",
       "  <thead>\n",
       "    <tr style=\"text-align: right;\">\n",
       "      <th></th>\n",
       "      <th>_id</th>\n",
       "      <th>Title</th>\n",
       "      <th>Director</th>\n",
       "      <th>Year</th>\n",
       "      <th>Actor</th>\n",
       "      <th>BoxOffice</th>\n",
       "    </tr>\n",
       "  </thead>\n",
       "  <tbody>\n",
       "    <tr>\n",
       "      <th>0</th>\n",
       "      <td>603d7a8566f96887a2ebc7d9</td>\n",
       "      <td>Star Wars</td>\n",
       "      <td>George Lucas</td>\n",
       "      <td>1977</td>\n",
       "      <td>NaN</td>\n",
       "      <td>NaN</td>\n",
       "    </tr>\n",
       "    <tr>\n",
       "      <th>1</th>\n",
       "      <td>603d7a8566f96887a2ebc7da</td>\n",
       "      <td>Tenet</td>\n",
       "      <td>Christopher Nolan</td>\n",
       "      <td>2020</td>\n",
       "      <td>NaN</td>\n",
       "      <td>NaN</td>\n",
       "    </tr>\n",
       "    <tr>\n",
       "      <th>2</th>\n",
       "      <td>603d7a8566f96887a2ebc7db</td>\n",
       "      <td>Batman</td>\n",
       "      <td>Christopher Nolan</td>\n",
       "      <td>2020</td>\n",
       "      <td>Christian Bale</td>\n",
       "      <td>10000000.0</td>\n",
       "    </tr>\n",
       "  </tbody>\n",
       "</table>\n",
       "</div>"
      ],
      "text/plain": [
       "                        _id      Title           Director  Year  \\\n",
       "0  603d7a8566f96887a2ebc7d9  Star Wars       George Lucas  1977   \n",
       "1  603d7a8566f96887a2ebc7da      Tenet  Christopher Nolan  2020   \n",
       "2  603d7a8566f96887a2ebc7db     Batman  Christopher Nolan  2020   \n",
       "\n",
       "            Actor   BoxOffice  \n",
       "0             NaN         NaN  \n",
       "1             NaN         NaN  \n",
       "2  Christian Bale  10000000.0  "
      ]
     },
     "execution_count": 15,
     "metadata": {},
     "output_type": "execute_result"
    }
   ],
   "source": [
    "# If we store the data in a DataFrame we get blank fields\n",
    "\n",
    "pd.DataFrame(collection.find())"
   ]
  },
  {
   "cell_type": "code",
   "execution_count": 17,
   "id": "individual-investor",
   "metadata": {},
   "outputs": [
    {
     "name": "stdout",
     "output_type": "stream",
     "text": [
      "{'_id': ObjectId('603d7a8566f96887a2ebc7d9'), 'Title': 'Star Wars', 'Director': 'George Lucas', 'Year': 1977}\n",
      "{'_id': ObjectId('603d7a8566f96887a2ebc7da'), 'Title': 'Tenet', 'Director': 'Christopher Nolan', 'Year': 2020}\n",
      "{'_id': ObjectId('603d7a8566f96887a2ebc7db'), 'Title': 'Batman', 'Director': 'Christopher Nolan', 'Actor': 'Christian Bale', 'Year': 2020, 'BoxOffice': 10000000}\n"
     ]
    }
   ],
   "source": [
    "# If we store the data in a list we only get the original fields\n",
    "\n",
    "for record in list(collection.find()):\n",
    "    print(record)"
   ]
  },
  {
   "cell_type": "code",
   "execution_count": null,
   "id": "herbal-nickname",
   "metadata": {},
   "outputs": [],
   "source": []
  },
  {
   "cell_type": "code",
   "execution_count": null,
   "id": "diverse-plant",
   "metadata": {},
   "outputs": [],
   "source": []
  },
  {
   "cell_type": "code",
   "execution_count": null,
   "id": "serious-attendance",
   "metadata": {},
   "outputs": [],
   "source": []
  }
 ],
 "metadata": {
  "kernelspec": {
   "display_name": "Python [conda env:bigDataWorkshop]",
   "language": "python",
   "name": "conda-env-bigDataWorkshop-py"
  },
  "language_info": {
   "codemirror_mode": {
    "name": "ipython",
    "version": 3
   },
   "file_extension": ".py",
   "mimetype": "text/x-python",
   "name": "python",
   "nbconvert_exporter": "python",
   "pygments_lexer": "ipython3",
   "version": "3.8.8"
  }
 },
 "nbformat": 4,
 "nbformat_minor": 5
}
